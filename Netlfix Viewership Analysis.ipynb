{
 "cells": [
  {
   "cell_type": "code",
   "execution_count": 14,
   "id": "725f2370",
   "metadata": {},
   "outputs": [],
   "source": [
    "# Importing libraries\n",
    "import pandas as pd\n",
    "import numpy as np\n",
    "import matplotlib.pyplot as plt\n",
    "import seaborn as sns"
   ]
  },
  {
   "cell_type": "markdown",
   "id": "d81cbe0f",
   "metadata": {},
   "source": [
    "Netflix gives us an extensive set of files, each one containing different data regarding our use of their platform. The file Cover Sheet summarizes what data each table contains. The file ViewingActivity.csv has the data we need to analyze viewership."
   ]
  },
  {
   "cell_type": "markdown",
   "id": "16e63069",
   "metadata": {},
   "source": [
    "We want to answer the questions:\n",
    "- Which is the most common device for watching shows?\n",
    "- What was the most-watched show?\n",
    "- Who spent more time watching shows on the platform?\n",
    "- What was the month in which the users watched the longest?"
   ]
  },
  {
   "cell_type": "code",
   "execution_count": 15,
   "id": "4db662cd",
   "metadata": {},
   "outputs": [],
   "source": [
    "# Importing dataset\n",
    "df = pd.read_csv('ViewingActivity.csv')"
   ]
  },
  {
   "cell_type": "code",
   "execution_count": 16,
   "id": "8a5b5cbe",
   "metadata": {},
   "outputs": [
    {
     "data": {
      "text/plain": [
       "(15516, 10)"
      ]
     },
     "execution_count": 16,
     "metadata": {},
     "output_type": "execute_result"
    }
   ],
   "source": [
    "df.shape"
   ]
  },
  {
   "cell_type": "code",
   "execution_count": 19,
   "id": "ecad5bec",
   "metadata": {
    "scrolled": true,
    "tags": []
   },
   "outputs": [
    {
     "data": {
      "text/html": [
       "<div>\n",
       "<style scoped>\n",
       "    .dataframe tbody tr th:only-of-type {\n",
       "        vertical-align: middle;\n",
       "    }\n",
       "\n",
       "    .dataframe tbody tr th {\n",
       "        vertical-align: top;\n",
       "    }\n",
       "\n",
       "    .dataframe thead th {\n",
       "        text-align: right;\n",
       "    }\n",
       "</style>\n",
       "<table border=\"1\" class=\"dataframe\">\n",
       "  <thead>\n",
       "    <tr style=\"text-align: right;\">\n",
       "      <th></th>\n",
       "      <th>Profile Name</th>\n",
       "      <th>Start Time</th>\n",
       "      <th>Duration</th>\n",
       "      <th>Attributes</th>\n",
       "      <th>Title</th>\n",
       "      <th>Supplemental Video Type</th>\n",
       "      <th>Device Type</th>\n",
       "      <th>Bookmark</th>\n",
       "      <th>Latest Bookmark</th>\n",
       "      <th>Country</th>\n",
       "    </tr>\n",
       "  </thead>\n",
       "  <tbody>\n",
       "    <tr>\n",
       "      <th>0</th>\n",
       "      <td>Profile4</td>\n",
       "      <td>2021-04-20 01:17:25</td>\n",
       "      <td>00:22:30</td>\n",
       "      <td>NaN</td>\n",
       "      <td>Demon Slayer: Kimetsu no Yaiba: Temporada 1: N...</td>\n",
       "      <td>NaN</td>\n",
       "      <td>Android DefaultWidevineL3Phone Android Phone</td>\n",
       "      <td>00:23:55</td>\n",
       "      <td>00:23:55</td>\n",
       "      <td>BR (Brazil)</td>\n",
       "    </tr>\n",
       "    <tr>\n",
       "      <th>1</th>\n",
       "      <td>Profile4</td>\n",
       "      <td>2021-04-20 00:44:40</td>\n",
       "      <td>00:23:27</td>\n",
       "      <td>NaN</td>\n",
       "      <td>Demon Slayer: Kimetsu no Yaiba: Temporada 1: K...</td>\n",
       "      <td>NaN</td>\n",
       "      <td>Android DefaultWidevineL3Phone Android Phone</td>\n",
       "      <td>00:23:37</td>\n",
       "      <td>00:23:37</td>\n",
       "      <td>BR (Brazil)</td>\n",
       "    </tr>\n",
       "    <tr>\n",
       "      <th>2</th>\n",
       "      <td>Profile4</td>\n",
       "      <td>2021-04-20 00:33:07</td>\n",
       "      <td>00:08:36</td>\n",
       "      <td>NaN</td>\n",
       "      <td>Demon Slayer: Kimetsu no Yaiba: Temporada 1: T...</td>\n",
       "      <td>NaN</td>\n",
       "      <td>Android DefaultWidevineL3Phone Android Phone</td>\n",
       "      <td>00:23:37</td>\n",
       "      <td>00:23:37</td>\n",
       "      <td>BR (Brazil)</td>\n",
       "    </tr>\n",
       "    <tr>\n",
       "      <th>3</th>\n",
       "      <td>Profile4</td>\n",
       "      <td>2021-04-19 18:03:46</td>\n",
       "      <td>00:00:41</td>\n",
       "      <td>Autoplayed: user action: None;</td>\n",
       "      <td>Sword Art Online_hook_primary_16x9</td>\n",
       "      <td>HOOK</td>\n",
       "      <td>Netflix Windows App - Cadmium Windows Mobile</td>\n",
       "      <td>00:00:00</td>\n",
       "      <td>00:00:00</td>\n",
       "      <td>BR (Brazil)</td>\n",
       "    </tr>\n",
       "    <tr>\n",
       "      <th>4</th>\n",
       "      <td>Profile4</td>\n",
       "      <td>2021-04-19 17:16:02</td>\n",
       "      <td>00:12:33</td>\n",
       "      <td>NaN</td>\n",
       "      <td>Demon Slayer: Kimetsu no Yaiba: Temporada 1: T...</td>\n",
       "      <td>NaN</td>\n",
       "      <td>Netflix Windows App - Cadmium Windows Mobile</td>\n",
       "      <td>00:13:52</td>\n",
       "      <td>Not latest view</td>\n",
       "      <td>BR (Brazil)</td>\n",
       "    </tr>\n",
       "  </tbody>\n",
       "</table>\n",
       "</div>"
      ],
      "text/plain": [
       "  Profile Name           Start Time  Duration  \\\n",
       "0     Profile4  2021-04-20 01:17:25  00:22:30   \n",
       "1     Profile4  2021-04-20 00:44:40  00:23:27   \n",
       "2     Profile4  2021-04-20 00:33:07  00:08:36   \n",
       "3     Profile4  2021-04-19 18:03:46  00:00:41   \n",
       "4     Profile4  2021-04-19 17:16:02  00:12:33   \n",
       "\n",
       "                        Attributes  \\\n",
       "0                              NaN   \n",
       "1                              NaN   \n",
       "2                              NaN   \n",
       "3  Autoplayed: user action: None;    \n",
       "4                              NaN   \n",
       "\n",
       "                                               Title Supplemental Video Type  \\\n",
       "0  Demon Slayer: Kimetsu no Yaiba: Temporada 1: N...                     NaN   \n",
       "1  Demon Slayer: Kimetsu no Yaiba: Temporada 1: K...                     NaN   \n",
       "2  Demon Slayer: Kimetsu no Yaiba: Temporada 1: T...                     NaN   \n",
       "3                 Sword Art Online_hook_primary_16x9                    HOOK   \n",
       "4  Demon Slayer: Kimetsu no Yaiba: Temporada 1: T...                     NaN   \n",
       "\n",
       "                                    Device Type  Bookmark  Latest Bookmark  \\\n",
       "0  Android DefaultWidevineL3Phone Android Phone  00:23:55         00:23:55   \n",
       "1  Android DefaultWidevineL3Phone Android Phone  00:23:37         00:23:37   \n",
       "2  Android DefaultWidevineL3Phone Android Phone  00:23:37         00:23:37   \n",
       "3  Netflix Windows App - Cadmium Windows Mobile  00:00:00         00:00:00   \n",
       "4  Netflix Windows App - Cadmium Windows Mobile  00:13:52  Not latest view   \n",
       "\n",
       "       Country  \n",
       "0  BR (Brazil)  \n",
       "1  BR (Brazil)  \n",
       "2  BR (Brazil)  \n",
       "3  BR (Brazil)  \n",
       "4  BR (Brazil)  "
      ]
     },
     "execution_count": 19,
     "metadata": {},
     "output_type": "execute_result"
    }
   ],
   "source": [
    "df.head()"
   ]
  },
  {
   "cell_type": "code",
   "execution_count": 20,
   "id": "c763d18b",
   "metadata": {},
   "outputs": [
    {
     "data": {
      "text/plain": [
       "Profile Name               object\n",
       "Start Time                 object\n",
       "Duration                   object\n",
       "Attributes                 object\n",
       "Title                      object\n",
       "Supplemental Video Type    object\n",
       "Device Type                object\n",
       "Bookmark                   object\n",
       "Latest Bookmark            object\n",
       "Country                    object\n",
       "dtype: object"
      ]
     },
     "execution_count": 20,
     "metadata": {},
     "output_type": "execute_result"
    }
   ],
   "source": [
    "df.dtypes"
   ]
  },
  {
   "cell_type": "markdown",
   "id": "ebf037d0",
   "metadata": {},
   "source": [
    "Some columns are specific to user interaction with the video player and do not represent significant data for the analysis we are performing here. The column Attributes, for instance, gives us details about how the user interacted with the content (i.e., the user visualized the series page). Again, information regarding each column is available in the file Cover sheet.pdf. Because these columns will not help us answer our target questions, we will drop them."
   ]
  },
  {
   "cell_type": "code",
   "execution_count": 21,
   "id": "1a99436a",
   "metadata": {},
   "outputs": [],
   "source": [
    "df.drop(['Attributes', 'Supplemental Video Type', 'Bookmark', 'Latest Bookmark'], axis=1, inplace=True)"
   ]
  },
  {
   "cell_type": "code",
   "execution_count": 22,
   "id": "f51dfeee",
   "metadata": {},
   "outputs": [
    {
     "data": {
      "text/html": [
       "<div>\n",
       "<style scoped>\n",
       "    .dataframe tbody tr th:only-of-type {\n",
       "        vertical-align: middle;\n",
       "    }\n",
       "\n",
       "    .dataframe tbody tr th {\n",
       "        vertical-align: top;\n",
       "    }\n",
       "\n",
       "    .dataframe thead th {\n",
       "        text-align: right;\n",
       "    }\n",
       "</style>\n",
       "<table border=\"1\" class=\"dataframe\">\n",
       "  <thead>\n",
       "    <tr style=\"text-align: right;\">\n",
       "      <th></th>\n",
       "      <th>Profile Name</th>\n",
       "      <th>Start Time</th>\n",
       "      <th>Duration</th>\n",
       "      <th>Title</th>\n",
       "      <th>Device Type</th>\n",
       "      <th>Country</th>\n",
       "    </tr>\n",
       "  </thead>\n",
       "  <tbody>\n",
       "    <tr>\n",
       "      <th>0</th>\n",
       "      <td>Profile4</td>\n",
       "      <td>2021-04-20 01:17:25</td>\n",
       "      <td>00:22:30</td>\n",
       "      <td>Demon Slayer: Kimetsu no Yaiba: Temporada 1: N...</td>\n",
       "      <td>Android DefaultWidevineL3Phone Android Phone</td>\n",
       "      <td>BR (Brazil)</td>\n",
       "    </tr>\n",
       "    <tr>\n",
       "      <th>1</th>\n",
       "      <td>Profile4</td>\n",
       "      <td>2021-04-20 00:44:40</td>\n",
       "      <td>00:23:27</td>\n",
       "      <td>Demon Slayer: Kimetsu no Yaiba: Temporada 1: K...</td>\n",
       "      <td>Android DefaultWidevineL3Phone Android Phone</td>\n",
       "      <td>BR (Brazil)</td>\n",
       "    </tr>\n",
       "    <tr>\n",
       "      <th>2</th>\n",
       "      <td>Profile4</td>\n",
       "      <td>2021-04-20 00:33:07</td>\n",
       "      <td>00:08:36</td>\n",
       "      <td>Demon Slayer: Kimetsu no Yaiba: Temporada 1: T...</td>\n",
       "      <td>Android DefaultWidevineL3Phone Android Phone</td>\n",
       "      <td>BR (Brazil)</td>\n",
       "    </tr>\n",
       "    <tr>\n",
       "      <th>3</th>\n",
       "      <td>Profile4</td>\n",
       "      <td>2021-04-19 18:03:46</td>\n",
       "      <td>00:00:41</td>\n",
       "      <td>Sword Art Online_hook_primary_16x9</td>\n",
       "      <td>Netflix Windows App - Cadmium Windows Mobile</td>\n",
       "      <td>BR (Brazil)</td>\n",
       "    </tr>\n",
       "    <tr>\n",
       "      <th>4</th>\n",
       "      <td>Profile4</td>\n",
       "      <td>2021-04-19 17:16:02</td>\n",
       "      <td>00:12:33</td>\n",
       "      <td>Demon Slayer: Kimetsu no Yaiba: Temporada 1: T...</td>\n",
       "      <td>Netflix Windows App - Cadmium Windows Mobile</td>\n",
       "      <td>BR (Brazil)</td>\n",
       "    </tr>\n",
       "  </tbody>\n",
       "</table>\n",
       "</div>"
      ],
      "text/plain": [
       "  Profile Name           Start Time  Duration  \\\n",
       "0     Profile4  2021-04-20 01:17:25  00:22:30   \n",
       "1     Profile4  2021-04-20 00:44:40  00:23:27   \n",
       "2     Profile4  2021-04-20 00:33:07  00:08:36   \n",
       "3     Profile4  2021-04-19 18:03:46  00:00:41   \n",
       "4     Profile4  2021-04-19 17:16:02  00:12:33   \n",
       "\n",
       "                                               Title  \\\n",
       "0  Demon Slayer: Kimetsu no Yaiba: Temporada 1: N...   \n",
       "1  Demon Slayer: Kimetsu no Yaiba: Temporada 1: K...   \n",
       "2  Demon Slayer: Kimetsu no Yaiba: Temporada 1: T...   \n",
       "3                 Sword Art Online_hook_primary_16x9   \n",
       "4  Demon Slayer: Kimetsu no Yaiba: Temporada 1: T...   \n",
       "\n",
       "                                    Device Type      Country  \n",
       "0  Android DefaultWidevineL3Phone Android Phone  BR (Brazil)  \n",
       "1  Android DefaultWidevineL3Phone Android Phone  BR (Brazil)  \n",
       "2  Android DefaultWidevineL3Phone Android Phone  BR (Brazil)  \n",
       "3  Netflix Windows App - Cadmium Windows Mobile  BR (Brazil)  \n",
       "4  Netflix Windows App - Cadmium Windows Mobile  BR (Brazil)  "
      ]
     },
     "execution_count": 22,
     "metadata": {},
     "output_type": "execute_result"
    }
   ],
   "source": [
    "df.head()"
   ]
  },
  {
   "cell_type": "markdown",
   "id": "acd6ee1e",
   "metadata": {},
   "source": [
    "The column 'Start Time' tells us when the user started watching a given show. In its current format, its type is a string. We want to convert it to a proper date. Besides, since we are interested in the most watched month, we can filter even further and remove the time part of the date"
   ]
  },
  {
   "cell_type": "code",
   "execution_count": 23,
   "id": "23f0e0b2",
   "metadata": {},
   "outputs": [],
   "source": [
    "df['Start Time'] = pd.to_datetime(df['Start Time'], format='%Y-%m-%d %H:%M:%S', utc=True)"
   ]
  },
  {
   "cell_type": "code",
   "execution_count": 24,
   "id": "b1138c7f",
   "metadata": {},
   "outputs": [
    {
     "data": {
      "text/html": [
       "<div>\n",
       "<style scoped>\n",
       "    .dataframe tbody tr th:only-of-type {\n",
       "        vertical-align: middle;\n",
       "    }\n",
       "\n",
       "    .dataframe tbody tr th {\n",
       "        vertical-align: top;\n",
       "    }\n",
       "\n",
       "    .dataframe thead th {\n",
       "        text-align: right;\n",
       "    }\n",
       "</style>\n",
       "<table border=\"1\" class=\"dataframe\">\n",
       "  <thead>\n",
       "    <tr style=\"text-align: right;\">\n",
       "      <th></th>\n",
       "      <th>Profile Name</th>\n",
       "      <th>Start Time</th>\n",
       "      <th>Duration</th>\n",
       "      <th>Title</th>\n",
       "      <th>Device Type</th>\n",
       "      <th>Country</th>\n",
       "    </tr>\n",
       "  </thead>\n",
       "  <tbody>\n",
       "    <tr>\n",
       "      <th>0</th>\n",
       "      <td>Profile4</td>\n",
       "      <td>2021-04-20 01:17:25+00:00</td>\n",
       "      <td>00:22:30</td>\n",
       "      <td>Demon Slayer: Kimetsu no Yaiba: Temporada 1: N...</td>\n",
       "      <td>Android DefaultWidevineL3Phone Android Phone</td>\n",
       "      <td>BR (Brazil)</td>\n",
       "    </tr>\n",
       "    <tr>\n",
       "      <th>1</th>\n",
       "      <td>Profile4</td>\n",
       "      <td>2021-04-20 00:44:40+00:00</td>\n",
       "      <td>00:23:27</td>\n",
       "      <td>Demon Slayer: Kimetsu no Yaiba: Temporada 1: K...</td>\n",
       "      <td>Android DefaultWidevineL3Phone Android Phone</td>\n",
       "      <td>BR (Brazil)</td>\n",
       "    </tr>\n",
       "    <tr>\n",
       "      <th>2</th>\n",
       "      <td>Profile4</td>\n",
       "      <td>2021-04-20 00:33:07+00:00</td>\n",
       "      <td>00:08:36</td>\n",
       "      <td>Demon Slayer: Kimetsu no Yaiba: Temporada 1: T...</td>\n",
       "      <td>Android DefaultWidevineL3Phone Android Phone</td>\n",
       "      <td>BR (Brazil)</td>\n",
       "    </tr>\n",
       "    <tr>\n",
       "      <th>3</th>\n",
       "      <td>Profile4</td>\n",
       "      <td>2021-04-19 18:03:46+00:00</td>\n",
       "      <td>00:00:41</td>\n",
       "      <td>Sword Art Online_hook_primary_16x9</td>\n",
       "      <td>Netflix Windows App - Cadmium Windows Mobile</td>\n",
       "      <td>BR (Brazil)</td>\n",
       "    </tr>\n",
       "    <tr>\n",
       "      <th>4</th>\n",
       "      <td>Profile4</td>\n",
       "      <td>2021-04-19 17:16:02+00:00</td>\n",
       "      <td>00:12:33</td>\n",
       "      <td>Demon Slayer: Kimetsu no Yaiba: Temporada 1: T...</td>\n",
       "      <td>Netflix Windows App - Cadmium Windows Mobile</td>\n",
       "      <td>BR (Brazil)</td>\n",
       "    </tr>\n",
       "  </tbody>\n",
       "</table>\n",
       "</div>"
      ],
      "text/plain": [
       "  Profile Name                Start Time  Duration  \\\n",
       "0     Profile4 2021-04-20 01:17:25+00:00  00:22:30   \n",
       "1     Profile4 2021-04-20 00:44:40+00:00  00:23:27   \n",
       "2     Profile4 2021-04-20 00:33:07+00:00  00:08:36   \n",
       "3     Profile4 2021-04-19 18:03:46+00:00  00:00:41   \n",
       "4     Profile4 2021-04-19 17:16:02+00:00  00:12:33   \n",
       "\n",
       "                                               Title  \\\n",
       "0  Demon Slayer: Kimetsu no Yaiba: Temporada 1: N...   \n",
       "1  Demon Slayer: Kimetsu no Yaiba: Temporada 1: K...   \n",
       "2  Demon Slayer: Kimetsu no Yaiba: Temporada 1: T...   \n",
       "3                 Sword Art Online_hook_primary_16x9   \n",
       "4  Demon Slayer: Kimetsu no Yaiba: Temporada 1: T...   \n",
       "\n",
       "                                    Device Type      Country  \n",
       "0  Android DefaultWidevineL3Phone Android Phone  BR (Brazil)  \n",
       "1  Android DefaultWidevineL3Phone Android Phone  BR (Brazil)  \n",
       "2  Android DefaultWidevineL3Phone Android Phone  BR (Brazil)  \n",
       "3  Netflix Windows App - Cadmium Windows Mobile  BR (Brazil)  \n",
       "4  Netflix Windows App - Cadmium Windows Mobile  BR (Brazil)  "
      ]
     },
     "execution_count": 24,
     "metadata": {},
     "output_type": "execute_result"
    }
   ],
   "source": [
    "df.head()"
   ]
  },
  {
   "cell_type": "code",
   "execution_count": 25,
   "id": "8a828507",
   "metadata": {},
   "outputs": [
    {
     "data": {
      "text/plain": [
       "Profile Name    0\n",
       "Start Time      0\n",
       "Duration        0\n",
       "Title           0\n",
       "Device Type     0\n",
       "Country         0\n",
       "dtype: int64"
      ]
     },
     "execution_count": 25,
     "metadata": {},
     "output_type": "execute_result"
    }
   ],
   "source": [
    "df.isnull().sum()"
   ]
  },
  {
   "cell_type": "markdown",
   "id": "d6be8a09",
   "metadata": {},
   "source": [
    "We should also rename the 'Device Type' column to a more comprehensible name. Upon inspection, we notice that there are several types of devices, but they all come down to specific types: TV, browser, Xbox, PC, and Android"
   ]
  },
  {
   "cell_type": "code",
   "execution_count": 26,
   "id": "8d8e6d5b",
   "metadata": {},
   "outputs": [
    {
     "data": {
      "text/plain": [
       "TCL 2K18 FHD UnionTV Smart TV                                            4488\n",
       "Android DefaultWidevineL3Phone Android Phone                             4032\n",
       "Netflix Windows App - Cadmium Windows Mobile                             1559\n",
       "AOC AOC 2016 MT5800 with no FRC Smart TV                                 1360\n",
       "Microsoft Xbox One X                                                      988\n",
       "Panasonic 2017 TANBA11 TV Smart TV                                        894\n",
       "Chrome PC (Cadmium)                                                       551\n",
       "DefaultWidevineAndroidPhone                                               470\n",
       "TCL 2K17 FHD TV NT63 Smart TV                                             416\n",
       "Panasonic DTV 2014 sLD8A Smart TV                                         277\n",
       "Android DefaultWidevineL3Phone Android Phone (Quantum_Quantum MUV UP)     211\n",
       "Android DefaultWidevineL3Phone Android Phone (LENOVO_Lenovo K53b36)        76\n",
       "Edge OSS - Windows (Cadmium)                                               51\n",
       "Samsung 2017 Kant-M UHD TV Smart TV                                        47\n",
       "Android DefaultWidevineL3Phone Android Phone (motorola_Moto G (5))         41\n",
       "Edge (Cadmium)                                                             34\n",
       "Netflix Windows Mobile 8 Windows 8                                          9\n",
       "Netflix Chrome Linux (Cadmium) HTML 5                                       5\n",
       "Firefox PC (Cadmium)                                                        3\n",
       "Netflix Opera Other                                                         2\n",
       "Panasonic 2015 sLD8a TV Smart TV                                            2\n",
       "Name: Device Type, dtype: int64"
      ]
     },
     "execution_count": 26,
     "metadata": {},
     "output_type": "execute_result"
    }
   ],
   "source": [
    "df['Device Type'].value_counts()"
   ]
  },
  {
   "cell_type": "code",
   "execution_count": 27,
   "id": "b9b32571",
   "metadata": {},
   "outputs": [],
   "source": [
    "df.loc[df['Device Type'].str.contains('Chrome'), 'Device Type'] = 'Browser'\n",
    "df.loc[df['Device Type'].str.contains('Firefox'), 'Device Type'] = 'Browser'\n",
    "df.loc[df['Device Type'].str.contains('Edge'), 'Device Type'] = 'Browser'\n",
    "df.loc[df['Device Type'].str.contains('Opera'), 'Device Type'] = 'Browser'\n",
    "df.loc[df['Device Type'].str.contains('Android'), 'Device Type'] = 'Android'\n",
    "df.loc[df['Device Type'].str.contains('Windows'), 'Device Type'] = 'Windows'\n",
    "df.loc[df['Device Type'].str.contains('TV'), 'Device Type'] = 'TV'\n",
    "df.loc[df['Device Type'].str.contains('Xbox'), 'Device Type'] = 'Xbox'"
   ]
  },
  {
   "cell_type": "code",
   "execution_count": 28,
   "id": "5b7757f7",
   "metadata": {},
   "outputs": [
    {
     "data": {
      "text/html": [
       "<div>\n",
       "<style scoped>\n",
       "    .dataframe tbody tr th:only-of-type {\n",
       "        vertical-align: middle;\n",
       "    }\n",
       "\n",
       "    .dataframe tbody tr th {\n",
       "        vertical-align: top;\n",
       "    }\n",
       "\n",
       "    .dataframe thead th {\n",
       "        text-align: right;\n",
       "    }\n",
       "</style>\n",
       "<table border=\"1\" class=\"dataframe\">\n",
       "  <thead>\n",
       "    <tr style=\"text-align: right;\">\n",
       "      <th></th>\n",
       "      <th>Profile Name</th>\n",
       "      <th>Start Time</th>\n",
       "      <th>Duration</th>\n",
       "      <th>Title</th>\n",
       "      <th>Device Type</th>\n",
       "      <th>Country</th>\n",
       "    </tr>\n",
       "  </thead>\n",
       "  <tbody>\n",
       "    <tr>\n",
       "      <th>0</th>\n",
       "      <td>Profile4</td>\n",
       "      <td>2021-04-20 01:17:25+00:00</td>\n",
       "      <td>00:22:30</td>\n",
       "      <td>Demon Slayer: Kimetsu no Yaiba: Temporada 1: N...</td>\n",
       "      <td>Android</td>\n",
       "      <td>BR (Brazil)</td>\n",
       "    </tr>\n",
       "    <tr>\n",
       "      <th>1</th>\n",
       "      <td>Profile4</td>\n",
       "      <td>2021-04-20 00:44:40+00:00</td>\n",
       "      <td>00:23:27</td>\n",
       "      <td>Demon Slayer: Kimetsu no Yaiba: Temporada 1: K...</td>\n",
       "      <td>Android</td>\n",
       "      <td>BR (Brazil)</td>\n",
       "    </tr>\n",
       "    <tr>\n",
       "      <th>2</th>\n",
       "      <td>Profile4</td>\n",
       "      <td>2021-04-20 00:33:07+00:00</td>\n",
       "      <td>00:08:36</td>\n",
       "      <td>Demon Slayer: Kimetsu no Yaiba: Temporada 1: T...</td>\n",
       "      <td>Android</td>\n",
       "      <td>BR (Brazil)</td>\n",
       "    </tr>\n",
       "    <tr>\n",
       "      <th>3</th>\n",
       "      <td>Profile4</td>\n",
       "      <td>2021-04-19 18:03:46+00:00</td>\n",
       "      <td>00:00:41</td>\n",
       "      <td>Sword Art Online_hook_primary_16x9</td>\n",
       "      <td>Windows</td>\n",
       "      <td>BR (Brazil)</td>\n",
       "    </tr>\n",
       "    <tr>\n",
       "      <th>4</th>\n",
       "      <td>Profile4</td>\n",
       "      <td>2021-04-19 17:16:02+00:00</td>\n",
       "      <td>00:12:33</td>\n",
       "      <td>Demon Slayer: Kimetsu no Yaiba: Temporada 1: T...</td>\n",
       "      <td>Windows</td>\n",
       "      <td>BR (Brazil)</td>\n",
       "    </tr>\n",
       "  </tbody>\n",
       "</table>\n",
       "</div>"
      ],
      "text/plain": [
       "  Profile Name                Start Time  Duration  \\\n",
       "0     Profile4 2021-04-20 01:17:25+00:00  00:22:30   \n",
       "1     Profile4 2021-04-20 00:44:40+00:00  00:23:27   \n",
       "2     Profile4 2021-04-20 00:33:07+00:00  00:08:36   \n",
       "3     Profile4 2021-04-19 18:03:46+00:00  00:00:41   \n",
       "4     Profile4 2021-04-19 17:16:02+00:00  00:12:33   \n",
       "\n",
       "                                               Title Device Type      Country  \n",
       "0  Demon Slayer: Kimetsu no Yaiba: Temporada 1: N...     Android  BR (Brazil)  \n",
       "1  Demon Slayer: Kimetsu no Yaiba: Temporada 1: K...     Android  BR (Brazil)  \n",
       "2  Demon Slayer: Kimetsu no Yaiba: Temporada 1: T...     Android  BR (Brazil)  \n",
       "3                 Sword Art Online_hook_primary_16x9     Windows  BR (Brazil)  \n",
       "4  Demon Slayer: Kimetsu no Yaiba: Temporada 1: T...     Windows  BR (Brazil)  "
      ]
     },
     "execution_count": 28,
     "metadata": {},
     "output_type": "execute_result"
    }
   ],
   "source": [
    "df.head()"
   ]
  },
  {
   "cell_type": "markdown",
   "id": "914fdc27",
   "metadata": {},
   "source": [
    "# Answering our questions"
   ]
  },
  {
   "cell_type": "markdown",
   "id": "172f88c9",
   "metadata": {},
   "source": [
    "With the dataframe ready, we can answer our initial questions"
   ]
  },
  {
   "cell_type": "markdown",
   "id": "7a42a001",
   "metadata": {},
   "source": [
    "## Which is the most common device for watching shows?"
   ]
  },
  {
   "cell_type": "markdown",
   "id": "834ee45d",
   "metadata": {},
   "source": [
    "Since we already replaced the verbose names with shorter, more descriptive names, we can get the total count and plot a graph"
   ]
  },
  {
   "cell_type": "code",
   "execution_count": 29,
   "id": "4e4fc3d8",
   "metadata": {},
   "outputs": [
    {
     "data": {
      "text/plain": [
       "TV         7484\n",
       "Android    4830\n",
       "Windows    1568\n",
       "Xbox        988\n",
       "Browser     646\n",
       "Name: Device Type, dtype: int64"
      ]
     },
     "execution_count": 29,
     "metadata": {},
     "output_type": "execute_result"
    }
   ],
   "source": [
    "df['Device Type'].value_counts()"
   ]
  },
  {
   "cell_type": "code",
   "execution_count": 30,
   "id": "6f3e2812",
   "metadata": {
    "scrolled": true
   },
   "outputs": [
    {
     "data": {
      "image/png": "[encoded data removed]",
      "text/plain": [
       "<Figure size 432x432 with 1 Axes>"
      ]
     },
     "metadata": {},
     "output_type": "display_data"
    }
   ],
   "source": [
    "sns.set_style('whitegrid')\n",
    "sns.set_context('talk')\n",
    "fig, ax = plt.subplots(figsize=(6,6))\n",
    "sns.countplot(ax=ax, x='Device Type', data=df, order=df['Device Type'].value_counts().index)\n",
    "ax.set_ylabel('Netflix Sessions')\n",
    "ax.set_xlabel('Device Type')\n",
    "ax.set_title('Most used devices to watch Netflix')\n",
    "plt.show()"
   ]
  },
  {
   "cell_type": "markdown",
   "id": "c5f6c7aa",
   "metadata": {},
   "source": [
    "## Who spent more time watching shows on the platform?"
   ]
  },
  {
   "cell_type": "markdown",
   "id": "c32a716e",
   "metadata": {},
   "source": [
    "Before verifying which profiles spent the most time on the platform by summing all values of the column 'Duration', we have to convert it to a format we can actually work with. In Python, we can sum time using timedelta."
   ]
  },
  {
   "cell_type": "code",
   "execution_count": 31,
   "id": "6c2b256a",
   "metadata": {},
   "outputs": [],
   "source": [
    "import datetime\n",
    "\n",
    "def convert_to_deltatime(time):\n",
    "    hour, minute, second = time.split(':')\n",
    "    return datetime.timedelta(hours=int(hour), minutes=int(minute), seconds=int(second))"
   ]
  },
  {
   "cell_type": "code",
   "execution_count": 32,
   "id": "ef0d7a51",
   "metadata": {},
   "outputs": [],
   "source": [
    "time_df = df.copy()\n",
    "time_df['Duration'] = time_df['Duration'].apply(convert_to_deltatime)"
   ]
  },
  {
   "cell_type": "code",
   "execution_count": 33,
   "id": "2a6edcf6",
   "metadata": {
    "scrolled": true
   },
   "outputs": [],
   "source": [
    "watch_time_days = time_df.groupby(by=['Profile Name'])['Duration'].sum().dt.days"
   ]
  },
  {
   "cell_type": "code",
   "execution_count": 34,
   "id": "5ec5f77f",
   "metadata": {},
   "outputs": [
    {
     "data": {
      "image/png": "[encoded data removed]",
      "text/plain": [
       "<Figure size 432x432 with 1 Axes>"
      ]
     },
     "metadata": {},
     "output_type": "display_data"
    }
   ],
   "source": [
    "fig, ax = plt.subplots(figsize=(6,6))\n",
    "watch_time_days.plot(kind='bar')\n",
    "ax.set_ylabel('Total time of Netflix sessions (in days)')\n",
    "ax.set_xlabel('User')\n",
    "ax.set_title('Time (in days) spent watching Netflix content per user')\n",
    "plt.show()"
   ]
  },
  {
   "cell_type": "code",
   "execution_count": 35,
   "id": "d70fafd9",
   "metadata": {},
   "outputs": [
    {
     "data": {
      "text/plain": [
       "Profile Name\n",
       "Profile1   61 days 21:53:48\n",
       "Profile2   70 days 15:30:03\n",
       "Profile3   38 days 00:15:55\n",
       "Profile4   36 days 03:41:15\n",
       "Profile5   10 days 04:07:42\n",
       "Name: Duration, dtype: timedelta64[ns]"
      ]
     },
     "execution_count": 35,
     "metadata": {},
     "output_type": "execute_result"
    }
   ],
   "source": [
    "time_df.groupby(by=['Profile Name'])['Duration'].sum()"
   ]
  },
  {
   "cell_type": "markdown",
   "id": "955b8025",
   "metadata": {},
   "source": [
    "## What was the month in which the users watched the longest?"
   ]
  },
  {
   "cell_type": "markdown",
   "id": "10428aa8",
   "metadata": {},
   "source": [
    "We will add another column to accomodate the specific month and year in which each Netflix session occurred."
   ]
  },
  {
   "cell_type": "code",
   "execution_count": 36,
   "id": "93969c2b",
   "metadata": {},
   "outputs": [
    {
     "name": "stderr",
     "output_type": "stream",
     "text": [
      "C:\\Users\\pcteste1\\anaconda3\\lib\\site-packages\\pandas\\core\\arrays\\datetimes.py:1101: UserWarning: Converting to PeriodArray/Index representation will drop timezone information.\n",
      "  warnings.warn(\n"
     ]
    }
   ],
   "source": [
    "time_df['Session_Month'] = time_df['Start Time'].dt.to_period('M')"
   ]
  },
  {
   "cell_type": "code",
   "execution_count": 37,
   "id": "92319432",
   "metadata": {
    "scrolled": true
   },
   "outputs": [],
   "source": [
    "monthly_watchtime = time_df.groupby(by=['Session_Month'])['Duration'].sum().dt.days"
   ]
  },
  {
   "cell_type": "code",
   "execution_count": 38,
   "id": "9f667e78",
   "metadata": {},
   "outputs": [
    {
     "data": {
      "text/plain": [
       "<AxesSubplot:title={'center':'Number of days watched per month'}, xlabel='Session_Month', ylabel='viewship (in days)'>"
      ]
     },
     "execution_count": 38,
     "metadata": {},
     "output_type": "execute_result"
    },
    {
     "data": {
      "image/png": "[encoded data removed]",
      "text/plain": [
       "<Figure size 432x432 with 1 Axes>"
      ]
     },
     "metadata": {},
     "output_type": "display_data"
    }
   ],
   "source": [
    "fig, ax = plt.subplots(figsize=(6,6))\n",
    "ax.set_ylabel('viewship (in days)')\n",
    "ax.set_xlabel('Period (in months)')\n",
    "ax.set_title('Number of days watched per month')\n",
    "monthly_watchtime.plot()"
   ]
  },
  {
   "cell_type": "markdown",
   "id": "a30174c0",
   "metadata": {},
   "source": [
    "We observe a peak in 2020, when the pandemic began"
   ]
  },
  {
   "cell_type": "markdown",
   "id": "875e4e24",
   "metadata": {},
   "source": [
    "## What was the most watched show?"
   ]
  },
  {
   "cell_type": "markdown",
   "id": "e9d2240c",
   "metadata": {},
   "source": [
    "Because titles may also indicate the season and episode to which a show belongs, we risk counting a show more than once. Therefore, we will remove the words after the first colon."
   ]
  },
  {
   "cell_type": "code",
   "execution_count": 39,
   "id": "95016ef2",
   "metadata": {},
   "outputs": [],
   "source": [
    "most_watched_df = df.copy()\n",
    "most_watched_df['Title'] = most_watched_df['Title'].str.split(':').str[0]"
   ]
  },
  {
   "cell_type": "code",
   "execution_count": 40,
   "id": "90236384",
   "metadata": {},
   "outputs": [
    {
     "data": {
      "text/html": [
       "<div>\n",
       "<style scoped>\n",
       "    .dataframe tbody tr th:only-of-type {\n",
       "        vertical-align: middle;\n",
       "    }\n",
       "\n",
       "    .dataframe tbody tr th {\n",
       "        vertical-align: top;\n",
       "    }\n",
       "\n",
       "    .dataframe thead th {\n",
       "        text-align: right;\n",
       "    }\n",
       "</style>\n",
       "<table border=\"1\" class=\"dataframe\">\n",
       "  <thead>\n",
       "    <tr style=\"text-align: right;\">\n",
       "      <th></th>\n",
       "      <th>Profile Name</th>\n",
       "      <th>Start Time</th>\n",
       "      <th>Duration</th>\n",
       "      <th>Title</th>\n",
       "      <th>Device Type</th>\n",
       "      <th>Country</th>\n",
       "    </tr>\n",
       "  </thead>\n",
       "  <tbody>\n",
       "    <tr>\n",
       "      <th>0</th>\n",
       "      <td>Profile4</td>\n",
       "      <td>2021-04-20 01:17:25+00:00</td>\n",
       "      <td>00:22:30</td>\n",
       "      <td>Demon Slayer</td>\n",
       "      <td>Android</td>\n",
       "      <td>BR (Brazil)</td>\n",
       "    </tr>\n",
       "    <tr>\n",
       "      <th>1</th>\n",
       "      <td>Profile4</td>\n",
       "      <td>2021-04-20 00:44:40+00:00</td>\n",
       "      <td>00:23:27</td>\n",
       "      <td>Demon Slayer</td>\n",
       "      <td>Android</td>\n",
       "      <td>BR (Brazil)</td>\n",
       "    </tr>\n",
       "    <tr>\n",
       "      <th>2</th>\n",
       "      <td>Profile4</td>\n",
       "      <td>2021-04-20 00:33:07+00:00</td>\n",
       "      <td>00:08:36</td>\n",
       "      <td>Demon Slayer</td>\n",
       "      <td>Android</td>\n",
       "      <td>BR (Brazil)</td>\n",
       "    </tr>\n",
       "    <tr>\n",
       "      <th>3</th>\n",
       "      <td>Profile4</td>\n",
       "      <td>2021-04-19 18:03:46+00:00</td>\n",
       "      <td>00:00:41</td>\n",
       "      <td>Sword Art Online_hook_primary_16x9</td>\n",
       "      <td>Windows</td>\n",
       "      <td>BR (Brazil)</td>\n",
       "    </tr>\n",
       "    <tr>\n",
       "      <th>4</th>\n",
       "      <td>Profile4</td>\n",
       "      <td>2021-04-19 17:16:02+00:00</td>\n",
       "      <td>00:12:33</td>\n",
       "      <td>Demon Slayer</td>\n",
       "      <td>Windows</td>\n",
       "      <td>BR (Brazil)</td>\n",
       "    </tr>\n",
       "  </tbody>\n",
       "</table>\n",
       "</div>"
      ],
      "text/plain": [
       "  Profile Name                Start Time  Duration  \\\n",
       "0     Profile4 2021-04-20 01:17:25+00:00  00:22:30   \n",
       "1     Profile4 2021-04-20 00:44:40+00:00  00:23:27   \n",
       "2     Profile4 2021-04-20 00:33:07+00:00  00:08:36   \n",
       "3     Profile4 2021-04-19 18:03:46+00:00  00:00:41   \n",
       "4     Profile4 2021-04-19 17:16:02+00:00  00:12:33   \n",
       "\n",
       "                                Title Device Type      Country  \n",
       "0                        Demon Slayer     Android  BR (Brazil)  \n",
       "1                        Demon Slayer     Android  BR (Brazil)  \n",
       "2                        Demon Slayer     Android  BR (Brazil)  \n",
       "3  Sword Art Online_hook_primary_16x9     Windows  BR (Brazil)  \n",
       "4                        Demon Slayer     Windows  BR (Brazil)  "
      ]
     },
     "execution_count": 40,
     "metadata": {},
     "output_type": "execute_result"
    }
   ],
   "source": [
    "most_watched_df.head()"
   ]
  },
  {
   "cell_type": "markdown",
   "id": "2c0b35fb",
   "metadata": {},
   "source": [
    "Observe that we have some rows in which the column Duration has less than five minutes. It may have happened for several reasons, but we understand that the show was not watched fully. Perhaps the user was exploring to get a feeling of the show. In any case, we will remove these rows using an arbitrary threshold."
   ]
  },
  {
   "cell_type": "markdown",
   "id": "e4bb14bc",
   "metadata": {},
   "source": [
    "The column 'Duration' also represents the duration in hours, so we need a conversion from string to time"
   ]
  },
  {
   "cell_type": "code",
   "execution_count": 41,
   "id": "6981ce2c",
   "metadata": {},
   "outputs": [],
   "source": [
    "df['Duration'] = pd.to_datetime(df['Duration'], format='%H:%M:%S')"
   ]
  },
  {
   "cell_type": "code",
   "execution_count": 42,
   "id": "8b8bcee3",
   "metadata": {},
   "outputs": [
    {
     "data": {
      "text/plain": [
       "Vikings                              360\n",
       "The Last Kingdom                     302\n",
       "Breaking Bad                         242\n",
       "Betty em Nova York                   214\n",
       "Sou Luna                             207\n",
       "                                    ... \n",
       "The Cloverfield Paradox                1\n",
       "O Show de Truman - O Show da Vida      1\n",
       "Lion - Uma jornada para casa           1\n",
       "Tá Chovendo Hambúrguer                 1\n",
       "Se enlouquecer, não se apaixone        1\n",
       "Name: Title, Length: 990, dtype: int64"
      ]
     },
     "execution_count": 42,
     "metadata": {},
     "output_type": "execute_result"
    }
   ],
   "source": [
    "most_watched_df['Title'][df['Duration'].dt.minute > 10].value_counts()"
   ]
  },
  {
   "cell_type": "markdown",
   "id": "38925264",
   "metadata": {},
   "source": [
    "It seems Vikings was the most-watched show. The number is interesting because this series does not have 360 episodes; we have to remember that this count spans multiple profiles.\n",
    "This comparison is also unfair because we would have to compare shows according to their categories to find which film was the most-watched, for example. The problem with the current approach is that series have more watch sessions than films, for example, simply because they are longer and have multiple episodes."
   ]
  }
 ],
 "metadata": {
  "kernelspec": {
   "display_name": "Python 3",
   "language": "python",
   "name": "python3"
  },
  "language_info": {
   "codemirror_mode": {
    "name": "ipython",
    "version": 3
   },
   "file_extension": ".py",
   "mimetype": "text/x-python",
   "name": "python",
   "nbconvert_exporter": "python",
   "pygments_lexer": "ipython3",
   "version": "3.8.8"
  }
 },
 "nbformat": 4,
 "nbformat_minor": 5
}
